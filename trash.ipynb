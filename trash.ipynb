{
 "metadata": {
  "language_info": {
   "codemirror_mode": {
    "name": "ipython",
    "version": 3
   },
   "file_extension": ".py",
   "mimetype": "text/x-python",
   "name": "python",
   "nbconvert_exporter": "python",
   "pygments_lexer": "ipython3",
   "version": 3
  },
  "orig_nbformat": 2
 },
 "nbformat": 4,
 "nbformat_minor": 2,
 "cells": [
  {
   "cell_type": "code",
   "execution_count": null,
   "metadata": {},
   "outputs": [],
   "source": [
    "incidence = molecule.incidence_matrix('both').to_dense().abs()  # @ molecule.edata['feat']\n",
    "\n",
    "print(incidence[:,::2])\n",
    "nx.draw_kamada_kawai(molecule.to_networkx().to_undirected(), with_labels=True)"
   ]
  },
  {
   "cell_type": "code",
   "execution_count": null,
   "metadata": {},
   "outputs": [],
   "source": [
    "torch.diag(molecule.in_degrees())"
   ]
  },
  {
   "cell_type": "code",
   "execution_count": null,
   "metadata": {},
   "outputs": [],
   "source": [
    "edges = 1000\n",
    "index = 0\n",
    "\n",
    "for i in range(len(dataset)):\n",
    "    if 10 < dataset[i][0].number_of_edges() < edges:\n",
    "        edges = dataset[i][0].number_of_edges()\n",
    "        index = i\n",
    "\n",
    "print(index)"
   ]
  },
  {
   "cell_type": "code",
   "execution_count": null,
   "metadata": {},
   "outputs": [],
   "source": [
    "def create_edge_attention_adjacency(self, g: dgl.DGLGraph, lg_adjacency: torch.Tensor, node_attention: torch.Tensor):\n",
    "        node_attention_to_edge = torch.tensor([[node_attention[g.find_edges(i)[1]]] for i in range(g.num_edges())])\n",
    "        edge_attention_adjacency = lg_adjacency * node_attention_to_edge\n",
    "\n",
    "        return edge_attention_adjacency"
   ]
  },
  {
   "cell_type": "code",
   "execution_count": null,
   "metadata": {},
   "outputs": [],
   "source": [
    "# for node in range(lg.num_edges()):\n",
    "        #     edges = lg.find_edges(node)\n",
    "\n",
    "        #     source = edges[0].item()\n",
    "        #     destination = edges[1].item()\n",
    "\n",
    "        #     connecting_node = g.find_edges(source)[1]\n",
    "\n",
    "        #     for head in range(self._num_heads):\n",
    "        #         score = node_attention[connecting_node][head]\n",
    "\n",
    "        #         edge_attention_score[source][head][destination] = score"
   ]
  }
 ]
}