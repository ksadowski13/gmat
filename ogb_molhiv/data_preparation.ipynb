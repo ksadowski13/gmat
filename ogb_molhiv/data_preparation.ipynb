{
 "metadata": {
  "language_info": {
   "codemirror_mode": {
    "name": "ipython",
    "version": 3
   },
   "file_extension": ".py",
   "mimetype": "text/x-python",
   "name": "python",
   "nbconvert_exporter": "python",
   "pygments_lexer": "ipython3",
   "version": "3.8.8"
  },
  "orig_nbformat": 2,
  "kernelspec": {
   "name": "python388jvsc74a57bd04884a46182a36c52786c58ae747f94ef8bde10a8978cfcd06107010b24cc677d",
   "display_name": "Python 3.8.8 64-bit ('ogb-lsc-env': conda)"
  }
 },
 "nbformat": 4,
 "nbformat_minor": 2,
 "cells": [
  {
   "cell_type": "code",
   "execution_count": 21,
   "metadata": {},
   "outputs": [],
   "source": [
    "import torch\n",
    "import torch.nn as nn\n",
    "import torch.nn.functional as F\n",
    "\n",
    "import dgl\n",
    "\n",
    "from torch.utils.data import DataLoader\n",
    "\n",
    "from ogb.graphproppred import DglGraphPropPredDataset, collate_dgl\n",
    "\n",
    "from timeit import default_timer\n",
    "from typing import Union\n",
    "from tqdm import trange"
   ]
  },
  {
   "cell_type": "code",
   "execution_count": 2,
   "metadata": {},
   "outputs": [
    {
     "output_type": "stream",
     "name": "stdout",
     "text": [
      "Downloading http://snap.stanford.edu/ogb/data/graphproppred/csv_mol_download/hiv.zip\n",
      "Downloaded 0.00 GB: 100%|██████████| 3/3 [00:07<00:00,  2.61s/it]\n",
      "Extracting /home/ksadowski/datasets/hiv.zip\n",
      "Loading necessary files...\n",
      "This might take a while.\n",
      " 38%|███▊      | 15507/41127 [00:00<00:00, 155049.08it/s]Processing graphs...\n",
      "100%|██████████| 41127/41127 [00:00<00:00, 146789.91it/s]\n",
      "  4%|▍         | 1793/41127 [00:00<00:04, 8963.63it/s]Converting graphs into DGL objects...\n",
      "100%|██████████| 41127/41127 [00:05<00:00, 7325.79it/s]\n",
      "Saving...\n"
     ]
    }
   ],
   "source": [
    "dataset = DglGraphPropPredDataset(root='/home/ksadowski/datasets', name='ogbg-molhiv')"
   ]
  },
  {
   "cell_type": "code",
   "execution_count": 12,
   "metadata": {},
   "outputs": [
    {
     "output_type": "execute_result",
     "data": {
      "text/plain": [
       "41127"
      ]
     },
     "metadata": {},
     "execution_count": 12
    }
   ],
   "source": [
    "len(dataset)"
   ]
  },
  {
   "cell_type": "code",
   "execution_count": 22,
   "metadata": {},
   "outputs": [
    {
     "output_type": "stream",
     "name": "stderr",
     "text": [
      "100%|██████████| 41127/41127 [00:28<00:00, 1449.64it/s]\n"
     ]
    }
   ],
   "source": [
    "class ProcessedMolhiv(dgl.data.DGLDataset):\n",
    "    def __init__(self, ogb_dataset: dgl.data.DGLDataset):\n",
    "        self._ogb_dataset = ogb_dataset\n",
    "        self.graphs = []\n",
    "        self.line_graphs = []\n",
    "        self.labels = []\n",
    "        super().__init__(name='processed_PCQM4M')\n",
    "\n",
    "    def process(self):\n",
    "        for i in trange(len(self._ogb_dataset)):\n",
    "            g = self._ogb_dataset[i][0].add_self_loop()\n",
    "            lg = dgl.line_graph(g, backtracking=False).add_self_loop()\n",
    "\n",
    "            g.ndata['feat'] = g.ndata['feat'].float()\n",
    "            g.edata['feat'] = g.edata['feat'].float()\n",
    "\n",
    "            self.graphs.append(g)\n",
    "            self.line_graphs.append(lg)\n",
    "            self.labels.append(self._ogb_dataset[i][1])\n",
    "\n",
    "    def __getitem__(self, idx: Union[int, torch.Tensor]):\n",
    "        if isinstance(idx, int):\n",
    "            return self.graphs[idx], self.line_graphs[idx], self.labels[idx]\n",
    "        elif torch.is_tensor(idx) and idx.dtype == torch.long:\n",
    "            if idx.dim() == 0:\n",
    "                return self.graphs[idx], self.line_graphs[idx], self.labels[idx]\n",
    "            elif idx.dim() == 1:\n",
    "                return dgl.data.utils.Subset(self, idx.cpu())\n",
    "\n",
    "    def __len__(self):\n",
    "        return len(self.graphs)\n",
    "\n",
    "processed_dataset = ProcessedMolhiv(dataset)"
   ]
  },
  {
   "cell_type": "code",
   "execution_count": 29,
   "metadata": {},
   "outputs": [
    {
     "output_type": "execute_result",
     "data": {
      "text/plain": [
       "Graph(num_nodes=19, num_edges=59,\n",
       "      ndata_schemes={'feat': Scheme(shape=(9,), dtype=torch.float32)}\n",
       "      edata_schemes={'feat': Scheme(shape=(3,), dtype=torch.float32)})"
      ]
     },
     "metadata": {},
     "execution_count": 29
    }
   ],
   "source": [
    "processed_dataset.graphs[0]"
   ]
  },
  {
   "cell_type": "code",
   "execution_count": 30,
   "metadata": {},
   "outputs": [
    {
     "output_type": "execute_result",
     "data": {
      "text/plain": [
       "'rocauc'"
      ]
     },
     "metadata": {},
     "execution_count": 30
    }
   ],
   "source": [
    "dataset.eval_metric"
   ]
  },
  {
   "cell_type": "code",
   "execution_count": null,
   "metadata": {},
   "outputs": [],
   "source": []
  }
 ]
}