{
 "metadata": {
  "language_info": {
   "codemirror_mode": {
    "name": "ipython",
    "version": 3
   },
   "file_extension": ".py",
   "mimetype": "text/x-python",
   "name": "python",
   "nbconvert_exporter": "python",
   "pygments_lexer": "ipython3",
   "version": "3.8.8"
  },
  "orig_nbformat": 2,
  "kernelspec": {
   "name": "python388jvsc74a57bd04884a46182a36c52786c58ae747f94ef8bde10a8978cfcd06107010b24cc677d",
   "display_name": "Python 3.8.8 64-bit ('ogb-lsc-env': conda)"
  }
 },
 "nbformat": 4,
 "nbformat_minor": 2,
 "cells": [
  {
   "cell_type": "code",
   "execution_count": 1,
   "metadata": {},
   "outputs": [
    {
     "output_type": "stream",
     "name": "stderr",
     "text": [
      "Using backend: pytorch\n"
     ]
    }
   ],
   "source": [
    "import torch\n",
    "import torch.nn as nn\n",
    "import torch.nn.functional as F\n",
    "\n",
    "import dgl\n",
    "\n",
    "from timeit import default_timer"
   ]
  },
  {
   "cell_type": "code",
   "execution_count": 11,
   "metadata": {},
   "outputs": [],
   "source": [
    "x = torch.FloatTensor([[[1, 1, 1], [2, 2, 2]], [[1, 1, 1], [2, 2, 2]]])"
   ]
  },
  {
   "cell_type": "code",
   "execution_count": 52,
   "metadata": {},
   "outputs": [
    {
     "output_type": "execute_result",
     "data": {
      "text/plain": [
       "torch.Size([2, 4])"
      ]
     },
     "metadata": {},
     "execution_count": 52
    }
   ],
   "source": [
    "torch.cat(x.chunk(2), dim=-1).squeeze(dim=0).shape\n"
   ]
  },
  {
   "cell_type": "code",
   "execution_count": 28,
   "metadata": {},
   "outputs": [
    {
     "output_type": "execute_result",
     "data": {
      "text/plain": [
       "tensor([[2., 2., 2.],\n",
       "        [4., 4., 4.]])"
      ]
     },
     "metadata": {},
     "execution_count": 28
    }
   ],
   "source": [
    "x.sum(dim=0)"
   ]
  },
  {
   "cell_type": "code",
   "execution_count": 3,
   "metadata": {},
   "outputs": [
    {
     "output_type": "stream",
     "name": "stdout",
     "text": [
      "<zip object at 0x7f1c60281b40>\n"
     ]
    }
   ],
   "source": [
    "x = [1, 1, 1]\n",
    "y = [2, 2, 2]\n",
    "\n",
    "z = zip(x, y)\n",
    "\n",
    "print(z)"
   ]
  },
  {
   "cell_type": "code",
   "execution_count": 6,
   "metadata": {},
   "outputs": [
    {
     "output_type": "execute_result",
     "data": {
      "text/plain": [
       "{'0': 'value',\n",
       " '1': 'value',\n",
       " '2': 'value',\n",
       " '3': 'value',\n",
       " '4': 'value',\n",
       " '5': 'value',\n",
       " '6': 'value',\n",
       " '7': 'value',\n",
       " '8': 'value',\n",
       " '9': 'value'}"
      ]
     },
     "metadata": {},
     "execution_count": 6
    }
   ],
   "source": [
    "x = {f'{i}': 'value' for i in range(10)}\n",
    "\n",
    "x"
   ]
  },
  {
   "cell_type": "code",
   "execution_count": 8,
   "metadata": {},
   "outputs": [
    {
     "output_type": "stream",
     "name": "stdout",
     "text": [
      "value\nvalue\nvalue\nvalue\nvalue\nvalue\nvalue\nvalue\nvalue\nvalue\n"
     ]
    }
   ],
   "source": [
    "for i in x.values():\n",
    "    print(i)"
   ]
  },
  {
   "cell_type": "code",
   "execution_count": 13,
   "metadata": {},
   "outputs": [
    {
     "output_type": "execute_result",
     "data": {
      "text/plain": [
       "tensor(indices=tensor([[0, 0, 0, 1, 1, 1, 2, 2, 2, 3, 3, 3],\n",
       "                       [0, 1, 1, 0, 1, 1, 0, 1, 1, 0, 1, 1],\n",
       "                       [2, 0, 2, 2, 0, 2, 2, 0, 2, 2, 0, 2]]),\n",
       "       values=tensor([3., 4., 5., 3., 4., 5., 3., 4., 5., 3., 4., 5.]),\n",
       "       size=(4, 2, 4), nnz=12, layout=torch.sparse_coo)"
      ]
     },
     "metadata": {},
     "execution_count": 13
    }
   ],
   "source": [
    "indicies = torch.tensor([[0, 1, 1],\n",
    "                         [2, 0, 2]])\n",
    "values = torch.tensor([3, 4, 5], dtype=torch.float32)\n",
    "\n",
    "x = torch.sparse_coo_tensor(indicies, values, [2, 4])\n",
    "\n",
    "y = torch.stack([x for _ in range(4)])\n",
    "\n",
    "y"
   ]
  },
  {
   "cell_type": "code",
   "execution_count": 16,
   "metadata": {},
   "outputs": [
    {
     "output_type": "stream",
     "name": "stdout",
     "text": [
      "Index select: 4.251108700176701\nIndex select script: 4.873979106079787\n"
     ]
    }
   ],
   "source": [
    "etypes = torch.tensor([1, 3, 4, 5, 7, 8, 12])\n",
    "weight = torch.randn(20, 20)\n",
    "\n",
    "def idx_select(weight, etypes):\n",
    "    x = weight.index_select(0, etypes)\n",
    "\n",
    "    return x\n",
    "\n",
    "@torch.jit.script\n",
    "def idx_select_script(weight, etypes):\n",
    "    x = weight.index_select(0, etypes)\n",
    "\n",
    "    return x\n",
    "\n",
    "idx_total = 0\n",
    "\n",
    "for _ in range(1_000_000):\n",
    "    start = default_timer()\n",
    "\n",
    "    idx_select(weight, etypes)\n",
    "\n",
    "    stop = default_timer()\n",
    "\n",
    "    idx_total += stop - start\n",
    "\n",
    "idx_script_total = 0\n",
    "\n",
    "for _ in range(1_000_000):\n",
    "    start = default_timer()\n",
    "\n",
    "    idx_select_script(weight, etypes)\n",
    "\n",
    "    stop = default_timer()\n",
    "\n",
    "    idx_script_total += stop - start\n",
    "\n",
    "print(f'Index select: {idx_total}')\n",
    "print(f'Index select script: {idx_script_total}')\n",
    "\n",
    "\n"
   ]
  },
  {
   "cell_type": "code",
   "execution_count": 14,
   "metadata": {},
   "outputs": [
    {
     "output_type": "execute_result",
     "data": {
      "text/plain": [
       "tensor([2.0704e-05, 9.7609e-01, 6.0041e-04, 2.8287e-08, 2.1964e-02, 7.3661e-05,\n",
       "        1.2557e-03])"
      ]
     },
     "metadata": {},
     "execution_count": 14
    }
   ],
   "source": [
    "x = torch.randn(7, 9)\n",
    "y = torch.randn(7, 7)\n",
    "\n",
    "z = y @ x\n",
    "\n",
    "F.softmax(z.sum(dim=1), dim=0)\n",
    "\n"
   ]
  },
  {
   "cell_type": "code",
   "execution_count": null,
   "metadata": {},
   "outputs": [],
   "source": []
  }
 ]
}