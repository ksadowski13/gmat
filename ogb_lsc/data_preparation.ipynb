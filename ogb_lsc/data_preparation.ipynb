{
 "metadata": {
  "language_info": {
   "codemirror_mode": {
    "name": "ipython",
    "version": 3
   },
   "file_extension": ".py",
   "mimetype": "text/x-python",
   "name": "python",
   "nbconvert_exporter": "python",
   "pygments_lexer": "ipython3",
   "version": "3.8.8"
  },
  "orig_nbformat": 2,
  "kernelspec": {
   "name": "python388jvsc74a57bd04884a46182a36c52786c58ae747f94ef8bde10a8978cfcd06107010b24cc677d",
   "display_name": "Python 3.8.8 64-bit ('ogb-lsc-env': conda)"
  }
 },
 "nbformat": 4,
 "nbformat_minor": 2,
 "cells": [
  {
   "cell_type": "code",
   "execution_count": 1,
   "metadata": {},
   "outputs": [
    {
     "output_type": "stream",
     "name": "stderr",
     "text": [
      "Using backend: pytorch\n",
      "WARNING:root:The OGB package is out of date. Your version is 1.3.0, while the latest version is 1.3.1.\n"
     ]
    }
   ],
   "source": [
    "import math\n",
    "from typing import Tuple\n",
    "\n",
    "import torch\n",
    "import torch.nn as nn\n",
    "import torch.nn.functional as F \n",
    "import dgl\n",
    "\n",
    "from ogb.lsc import DglPCQM4MDataset\n",
    "from ogb.utils import smiles2graph\n",
    "\n",
    "from timeit import default_timer\n",
    "from tqdm import trange\n",
    "\n",
    "from typing import Union"
   ]
  },
  {
   "cell_type": "code",
   "execution_count": 2,
   "metadata": {},
   "outputs": [],
   "source": [
    "dataset = DglPCQM4MDataset(root='/home/ksadowski/datasets', smiles2graph=smiles2graph)"
   ]
  },
  {
   "cell_type": "code",
   "execution_count": 3,
   "metadata": {},
   "outputs": [],
   "source": [
    "split_dict = dataset.get_idx_split()\n",
    "\n",
    "train_idx = split_dict['train']\n",
    "valid_idx = split_dict['valid']\n",
    "test_idx = split_dict['test']"
   ]
  },
  {
   "cell_type": "code",
   "execution_count": 20,
   "metadata": {
    "tags": []
   },
   "outputs": [
    {
     "output_type": "stream",
     "name": "stderr",
     "text": [
      "100%|██████████| 380670/380670 [00:03<00:00, 99587.51it/s]\n"
     ]
    }
   ],
   "source": [
    "for i in trange(len(valid_idx)):\n",
    "    if torch.isnan(dataset[valid_idx[i]][1]) == True:\n",
    "        print(f'{i}: NaN')\n"
   ]
  },
  {
   "cell_type": "code",
   "execution_count": 22,
   "metadata": {},
   "outputs": [],
   "source": [
    "torch.save(train_idx, './data/train_idx.pt')\n",
    "torch.save(valid_idx, './data/val_idx.pt')\n",
    "torch.save(test_idx, './data/test_idx.pt')"
   ]
  },
  {
   "cell_type": "code",
   "execution_count": 32,
   "metadata": {},
   "outputs": [
    {
     "output_type": "stream",
     "name": "stdout",
     "text": [
      "tensor(52)\ntensor(3)\n"
     ]
    }
   ],
   "source": [
    "max_node = 0\n",
    "max_edge = 0\n",
    "\n",
    "min_node = 0\n",
    "min_edge = 0\n",
    "\n",
    "for data in dataset:\n",
    "    g = data[0]\n",
    "\n",
    "    max_g_node = torch.max(g.ndata['feat'])\n",
    "    min_g_node = torch.min(g.ndata['feat'])\n",
    "    \n",
    "    if max_g_node > max_node:\n",
    "        max_node = max_g_node\n",
    "\n",
    "    if min_g_node < min_node:\n",
    "        min_node = min_g_node\n",
    "\n",
    "    if len(g.edata['feat']):\n",
    "        max_g_edge = torch.max(g.edata['feat'])\n",
    "        min_g_edge = torch.min(g.edata['feat'])\n",
    "        \n",
    "        if max_g_edge > max_edge:\n",
    "            max_edge = max_g_edge\n",
    "\n",
    "        if min_g_edge < min_edge:\n",
    "            min_edge = min_g_edge\n",
    "\n",
    "print(max_node)\n",
    "print(max_edge)\n"
   ]
  },
  {
   "cell_type": "code",
   "execution_count": 3,
   "metadata": {},
   "outputs": [],
   "source": [
    "class ProcessedPCQM4M(dgl.data.DGLDataset):\n",
    "    def __init__(self, ogb_dataset: dgl.data.DGLDataset, normalize: bool = False):\n",
    "        self.ogb_dataset = ogb_dataset\n",
    "        self.normalize = normalize\n",
    "        self.graphs = []\n",
    "        self.line_graphs = []\n",
    "        self.labels = []\n",
    "        super().__init__(name='processed_PCQM4M')\n",
    "\n",
    "    def process(self):\n",
    "        for i in trange(len(self.ogb_dataset)):\n",
    "            g = self.ogb_dataset[i][0].add_self_loop()\n",
    "            lg = dgl.line_graph(g, backtracking=False).add_self_loop()\n",
    "\n",
    "            g.ndata['feat'] = g.ndata['feat'].float()\n",
    "            g.edata['feat'] = g.edata['feat'].float()\n",
    "\n",
    "            if self.normalize:\n",
    "                g.ndata['feat'] /= 52\n",
    "                g.edata['feat'] /= 3\n",
    "\n",
    "            self.graphs.append(g)\n",
    "            self.line_graphs.append(lg)\n",
    "            self.labels.append(self.ogb_dataset[i][1])\n",
    "\n",
    "    def __getitem__(self, idx: Union[int, torch.Tensor]):\n",
    "        if isinstance(idx, int):\n",
    "            return self.graphs[idx], self.line_graphs[idx], self.labels[idx]\n",
    "        elif torch.is_tensor(idx) and idx.dtype == torch.long:\n",
    "            if idx.dim() == 0:\n",
    "                return self.graphs[idx], self.line_graphs[idx], self.labels[idx]\n",
    "            elif idx.dim() == 1:\n",
    "                return dgl.data.utils.Subset(self, idx.cpu())\n",
    "\n",
    "    def __len__(self):\n",
    "        return len(self.graphs)"
   ]
  },
  {
   "cell_type": "code",
   "execution_count": 4,
   "metadata": {},
   "outputs": [
    {
     "output_type": "stream",
     "name": "stderr",
     "text": [
      "100%|██████████| 3803453/3803453 [46:08<00:00, 1373.65it/s]\n",
      "100%|██████████| 3803453/3803453 [00:27<00:00, 138155.02it/s]\n",
      "Finished checking labels ordering.\n"
     ]
    }
   ],
   "source": [
    "processed_dataset_norm = ProcessedPCQM4M(dataset, normalize=True)\n",
    "\n",
    "for i in trange(len(processed_dataset_norm)):\n",
    "    if not torch.isnan(processed_dataset_norm[i][2]):\n",
    "        assert processed_dataset_norm[i][2] == dataset[i][1]\n",
    "\n",
    "print('Finished checking labels ordering.')\n",
    "\n",
    "labels = {f'{i}': processed_dataset_norm[i][2] for i in range(len(processed_dataset_norm))}\n",
    "\n",
    "# dgl.data.utils.save_graphs('./data/molecules_norm.bin', processed_dataset_norm.graphs, labels)\n",
    "dgl.data.utils.save_graphs('./data/molecules_lg.bin', processed_dataset_norm.line_graphs, labels)"
   ]
  },
  {
   "cell_type": "code",
   "execution_count": 4,
   "metadata": {},
   "outputs": [
    {
     "output_type": "stream",
     "name": "stderr",
     "text": [
      "100%|██████████| 3803453/3803453 [42:52<00:00, 1478.42it/s]\n",
      "100%|██████████| 3803453/3803453 [00:26<00:00, 146116.26it/s]\n",
      "Finished checking labels ordering.\n"
     ]
    }
   ],
   "source": [
    "processed_dataset = ProcessedPCQM4M(dataset, normalize=False)\n",
    "\n",
    "for i in trange(len(processed_dataset)):\n",
    "    if not torch.isnan(processed_dataset[i][2]):\n",
    "        assert processed_dataset[i][2] == dataset[i][1]\n",
    "\n",
    "print('Finished checking labels ordering.')\n",
    "\n",
    "labels = {f'{i}': processed_dataset[i][2] for i in range(len(processed_dataset))}\n",
    "\n",
    "dgl.data.utils.save_graphs('./data/molecules.bin', processed_dataset.graphs, labels)"
   ]
  },
  {
   "cell_type": "code",
   "execution_count": 5,
   "metadata": {},
   "outputs": [
    {
     "output_type": "stream",
     "name": "stderr",
     "text": [
      "  1%|          | 29348/3803453 [00:08<18:03, 3482.74it/s]"
     ]
    }
   ],
   "source": [
    "for i in trange(len(dataset)):\n",
    "    g = dataset[i][0]\n",
    "    lg = dgl.line_graph(g, backtracking=False).add_self_loop()"
   ]
  }
 ]
}